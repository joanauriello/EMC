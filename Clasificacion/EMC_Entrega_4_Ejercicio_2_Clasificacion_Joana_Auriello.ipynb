{
  "nbformat": 4,
  "nbformat_minor": 0,
  "metadata": {
    "colab": {
      "provenance": []
    },
    "kernelspec": {
      "name": "python3",
      "display_name": "Python 3"
    },
    "language_info": {
      "name": "python"
    }
  },
  "cells": [
    {
      "cell_type": "markdown",
      "source": [
        "# Ejercicio 2.1\n",
        "1- Realizar el ejercicio 2 del práctico 7 del curso 2021.\n",
        "\n",
        "Sean X1 y X2 dos variables uniformes en [-4,5] e Y una variable que se quiere predecir a partir de ellas.\n",
        "\n",
        " a) Simular una relacion entre Y y (X1,X2) del tipo:\n",
        " n=100; a=-2; b=2; c=3\n",
        " x1=runif(n,-4,5); x2=runif(n,-4,5)\n",
        " y=exp(a*x1+b*x2+c + rnorm(n))\n",
        " y=y/(1+y) ; y=rbinom(n,1,y)"
      ],
      "metadata": {
        "id": "DgkucSKL5_JG"
      }
    },
    {
      "cell_type": "code",
      "source": [
        "#PARTE a)\n",
        "import numpy as np\n",
        "import pandas as pd\n",
        "\n",
        "# Parámetros\n",
        "n = 100\n",
        "a = -2\n",
        "b = 2\n",
        "c = 3\n",
        "\n",
        "# Generar X1 y X2 (variables uniformes en [-4, 5])\n",
        "x1 = np.random.uniform(-4, 5, n)\n",
        "x2 = np.random.uniform(-4, 5, n)\n",
        "\n",
        "# Simular Y\n",
        "y_prob = np.exp(a * x1 + b * x2 + c + np.random.normal(0, 1, n))  # Probabilidad\n",
        "y_prob = y_prob / (1 + y_prob)  # Transformar a probabilidad en [0, 1]\n",
        "y = np.random.binomial(1, y_prob)  # Generar valores binarios de Y\n",
        "\n",
        "# Crear un DataFrame para almacenar los datos\n",
        "data = pd.DataFrame({'X1': x1, 'X2': x2, 'Y': y})\n",
        "data.head()\n"
      ],
      "metadata": {
        "id": "ykUsXQ2aHIDi",
        "colab": {
          "base_uri": "https://localhost:8080/",
          "height": 206
        },
        "outputId": "49c0166d-6d20-4bfa-ef1c-53e4149f6085"
      },
      "execution_count": 1,
      "outputs": [
        {
          "output_type": "execute_result",
          "data": {
            "text/plain": [
              "         X1        X2  Y\n",
              "0 -1.825710  1.922173  1\n",
              "1  4.785839 -0.607960  0\n",
              "2 -1.061049  3.900017  1\n",
              "3 -1.634202 -3.452734  0\n",
              "4 -2.603434  4.847631  1"
            ],
            "text/html": [
              "\n",
              "  <div id=\"df-034b033e-4272-42bd-9102-20371c104568\" class=\"colab-df-container\">\n",
              "    <div>\n",
              "<style scoped>\n",
              "    .dataframe tbody tr th:only-of-type {\n",
              "        vertical-align: middle;\n",
              "    }\n",
              "\n",
              "    .dataframe tbody tr th {\n",
              "        vertical-align: top;\n",
              "    }\n",
              "\n",
              "    .dataframe thead th {\n",
              "        text-align: right;\n",
              "    }\n",
              "</style>\n",
              "<table border=\"1\" class=\"dataframe\">\n",
              "  <thead>\n",
              "    <tr style=\"text-align: right;\">\n",
              "      <th></th>\n",
              "      <th>X1</th>\n",
              "      <th>X2</th>\n",
              "      <th>Y</th>\n",
              "    </tr>\n",
              "  </thead>\n",
              "  <tbody>\n",
              "    <tr>\n",
              "      <th>0</th>\n",
              "      <td>-1.825710</td>\n",
              "      <td>1.922173</td>\n",
              "      <td>1</td>\n",
              "    </tr>\n",
              "    <tr>\n",
              "      <th>1</th>\n",
              "      <td>4.785839</td>\n",
              "      <td>-0.607960</td>\n",
              "      <td>0</td>\n",
              "    </tr>\n",
              "    <tr>\n",
              "      <th>2</th>\n",
              "      <td>-1.061049</td>\n",
              "      <td>3.900017</td>\n",
              "      <td>1</td>\n",
              "    </tr>\n",
              "    <tr>\n",
              "      <th>3</th>\n",
              "      <td>-1.634202</td>\n",
              "      <td>-3.452734</td>\n",
              "      <td>0</td>\n",
              "    </tr>\n",
              "    <tr>\n",
              "      <th>4</th>\n",
              "      <td>-2.603434</td>\n",
              "      <td>4.847631</td>\n",
              "      <td>1</td>\n",
              "    </tr>\n",
              "  </tbody>\n",
              "</table>\n",
              "</div>\n",
              "    <div class=\"colab-df-buttons\">\n",
              "\n",
              "  <div class=\"colab-df-container\">\n",
              "    <button class=\"colab-df-convert\" onclick=\"convertToInteractive('df-034b033e-4272-42bd-9102-20371c104568')\"\n",
              "            title=\"Convert this dataframe to an interactive table.\"\n",
              "            style=\"display:none;\">\n",
              "\n",
              "  <svg xmlns=\"http://www.w3.org/2000/svg\" height=\"24px\" viewBox=\"0 -960 960 960\">\n",
              "    <path d=\"M120-120v-720h720v720H120Zm60-500h600v-160H180v160Zm220 220h160v-160H400v160Zm0 220h160v-160H400v160ZM180-400h160v-160H180v160Zm440 0h160v-160H620v160ZM180-180h160v-160H180v160Zm440 0h160v-160H620v160Z\"/>\n",
              "  </svg>\n",
              "    </button>\n",
              "\n",
              "  <style>\n",
              "    .colab-df-container {\n",
              "      display:flex;\n",
              "      gap: 12px;\n",
              "    }\n",
              "\n",
              "    .colab-df-convert {\n",
              "      background-color: #E8F0FE;\n",
              "      border: none;\n",
              "      border-radius: 50%;\n",
              "      cursor: pointer;\n",
              "      display: none;\n",
              "      fill: #1967D2;\n",
              "      height: 32px;\n",
              "      padding: 0 0 0 0;\n",
              "      width: 32px;\n",
              "    }\n",
              "\n",
              "    .colab-df-convert:hover {\n",
              "      background-color: #E2EBFA;\n",
              "      box-shadow: 0px 1px 2px rgba(60, 64, 67, 0.3), 0px 1px 3px 1px rgba(60, 64, 67, 0.15);\n",
              "      fill: #174EA6;\n",
              "    }\n",
              "\n",
              "    .colab-df-buttons div {\n",
              "      margin-bottom: 4px;\n",
              "    }\n",
              "\n",
              "    [theme=dark] .colab-df-convert {\n",
              "      background-color: #3B4455;\n",
              "      fill: #D2E3FC;\n",
              "    }\n",
              "\n",
              "    [theme=dark] .colab-df-convert:hover {\n",
              "      background-color: #434B5C;\n",
              "      box-shadow: 0px 1px 3px 1px rgba(0, 0, 0, 0.15);\n",
              "      filter: drop-shadow(0px 1px 2px rgba(0, 0, 0, 0.3));\n",
              "      fill: #FFFFFF;\n",
              "    }\n",
              "  </style>\n",
              "\n",
              "    <script>\n",
              "      const buttonEl =\n",
              "        document.querySelector('#df-034b033e-4272-42bd-9102-20371c104568 button.colab-df-convert');\n",
              "      buttonEl.style.display =\n",
              "        google.colab.kernel.accessAllowed ? 'block' : 'none';\n",
              "\n",
              "      async function convertToInteractive(key) {\n",
              "        const element = document.querySelector('#df-034b033e-4272-42bd-9102-20371c104568');\n",
              "        const dataTable =\n",
              "          await google.colab.kernel.invokeFunction('convertToInteractive',\n",
              "                                                    [key], {});\n",
              "        if (!dataTable) return;\n",
              "\n",
              "        const docLinkHtml = 'Like what you see? Visit the ' +\n",
              "          '<a target=\"_blank\" href=https://colab.research.google.com/notebooks/data_table.ipynb>data table notebook</a>'\n",
              "          + ' to learn more about interactive tables.';\n",
              "        element.innerHTML = '';\n",
              "        dataTable['output_type'] = 'display_data';\n",
              "        await google.colab.output.renderOutput(dataTable, element);\n",
              "        const docLink = document.createElement('div');\n",
              "        docLink.innerHTML = docLinkHtml;\n",
              "        element.appendChild(docLink);\n",
              "      }\n",
              "    </script>\n",
              "  </div>\n",
              "\n",
              "\n",
              "<div id=\"df-a90aa53b-d5bc-426c-a50e-1d2f088731e3\">\n",
              "  <button class=\"colab-df-quickchart\" onclick=\"quickchart('df-a90aa53b-d5bc-426c-a50e-1d2f088731e3')\"\n",
              "            title=\"Suggest charts\"\n",
              "            style=\"display:none;\">\n",
              "\n",
              "<svg xmlns=\"http://www.w3.org/2000/svg\" height=\"24px\"viewBox=\"0 0 24 24\"\n",
              "     width=\"24px\">\n",
              "    <g>\n",
              "        <path d=\"M19 3H5c-1.1 0-2 .9-2 2v14c0 1.1.9 2 2 2h14c1.1 0 2-.9 2-2V5c0-1.1-.9-2-2-2zM9 17H7v-7h2v7zm4 0h-2V7h2v10zm4 0h-2v-4h2v4z\"/>\n",
              "    </g>\n",
              "</svg>\n",
              "  </button>\n",
              "\n",
              "<style>\n",
              "  .colab-df-quickchart {\n",
              "      --bg-color: #E8F0FE;\n",
              "      --fill-color: #1967D2;\n",
              "      --hover-bg-color: #E2EBFA;\n",
              "      --hover-fill-color: #174EA6;\n",
              "      --disabled-fill-color: #AAA;\n",
              "      --disabled-bg-color: #DDD;\n",
              "  }\n",
              "\n",
              "  [theme=dark] .colab-df-quickchart {\n",
              "      --bg-color: #3B4455;\n",
              "      --fill-color: #D2E3FC;\n",
              "      --hover-bg-color: #434B5C;\n",
              "      --hover-fill-color: #FFFFFF;\n",
              "      --disabled-bg-color: #3B4455;\n",
              "      --disabled-fill-color: #666;\n",
              "  }\n",
              "\n",
              "  .colab-df-quickchart {\n",
              "    background-color: var(--bg-color);\n",
              "    border: none;\n",
              "    border-radius: 50%;\n",
              "    cursor: pointer;\n",
              "    display: none;\n",
              "    fill: var(--fill-color);\n",
              "    height: 32px;\n",
              "    padding: 0;\n",
              "    width: 32px;\n",
              "  }\n",
              "\n",
              "  .colab-df-quickchart:hover {\n",
              "    background-color: var(--hover-bg-color);\n",
              "    box-shadow: 0 1px 2px rgba(60, 64, 67, 0.3), 0 1px 3px 1px rgba(60, 64, 67, 0.15);\n",
              "    fill: var(--button-hover-fill-color);\n",
              "  }\n",
              "\n",
              "  .colab-df-quickchart-complete:disabled,\n",
              "  .colab-df-quickchart-complete:disabled:hover {\n",
              "    background-color: var(--disabled-bg-color);\n",
              "    fill: var(--disabled-fill-color);\n",
              "    box-shadow: none;\n",
              "  }\n",
              "\n",
              "  .colab-df-spinner {\n",
              "    border: 2px solid var(--fill-color);\n",
              "    border-color: transparent;\n",
              "    border-bottom-color: var(--fill-color);\n",
              "    animation:\n",
              "      spin 1s steps(1) infinite;\n",
              "  }\n",
              "\n",
              "  @keyframes spin {\n",
              "    0% {\n",
              "      border-color: transparent;\n",
              "      border-bottom-color: var(--fill-color);\n",
              "      border-left-color: var(--fill-color);\n",
              "    }\n",
              "    20% {\n",
              "      border-color: transparent;\n",
              "      border-left-color: var(--fill-color);\n",
              "      border-top-color: var(--fill-color);\n",
              "    }\n",
              "    30% {\n",
              "      border-color: transparent;\n",
              "      border-left-color: var(--fill-color);\n",
              "      border-top-color: var(--fill-color);\n",
              "      border-right-color: var(--fill-color);\n",
              "    }\n",
              "    40% {\n",
              "      border-color: transparent;\n",
              "      border-right-color: var(--fill-color);\n",
              "      border-top-color: var(--fill-color);\n",
              "    }\n",
              "    60% {\n",
              "      border-color: transparent;\n",
              "      border-right-color: var(--fill-color);\n",
              "    }\n",
              "    80% {\n",
              "      border-color: transparent;\n",
              "      border-right-color: var(--fill-color);\n",
              "      border-bottom-color: var(--fill-color);\n",
              "    }\n",
              "    90% {\n",
              "      border-color: transparent;\n",
              "      border-bottom-color: var(--fill-color);\n",
              "    }\n",
              "  }\n",
              "</style>\n",
              "\n",
              "  <script>\n",
              "    async function quickchart(key) {\n",
              "      const quickchartButtonEl =\n",
              "        document.querySelector('#' + key + ' button');\n",
              "      quickchartButtonEl.disabled = true;  // To prevent multiple clicks.\n",
              "      quickchartButtonEl.classList.add('colab-df-spinner');\n",
              "      try {\n",
              "        const charts = await google.colab.kernel.invokeFunction(\n",
              "            'suggestCharts', [key], {});\n",
              "      } catch (error) {\n",
              "        console.error('Error during call to suggestCharts:', error);\n",
              "      }\n",
              "      quickchartButtonEl.classList.remove('colab-df-spinner');\n",
              "      quickchartButtonEl.classList.add('colab-df-quickchart-complete');\n",
              "    }\n",
              "    (() => {\n",
              "      let quickchartButtonEl =\n",
              "        document.querySelector('#df-a90aa53b-d5bc-426c-a50e-1d2f088731e3 button');\n",
              "      quickchartButtonEl.style.display =\n",
              "        google.colab.kernel.accessAllowed ? 'block' : 'none';\n",
              "    })();\n",
              "  </script>\n",
              "</div>\n",
              "\n",
              "    </div>\n",
              "  </div>\n"
            ],
            "application/vnd.google.colaboratory.intrinsic+json": {
              "type": "dataframe",
              "variable_name": "data",
              "summary": "{\n  \"name\": \"data\",\n  \"rows\": 100,\n  \"fields\": [\n    {\n      \"column\": \"X1\",\n      \"properties\": {\n        \"dtype\": \"number\",\n        \"std\": 2.565466622242851,\n        \"min\": -3.890141745894008,\n        \"max\": 4.858499281281729,\n        \"num_unique_values\": 100,\n        \"samples\": [\n          -1.153023485436,\n          -1.2347448403915933,\n          2.628386605649955\n        ],\n        \"semantic_type\": \"\",\n        \"description\": \"\"\n      }\n    },\n    {\n      \"column\": \"X2\",\n      \"properties\": {\n        \"dtype\": \"number\",\n        \"std\": 2.70439242470345,\n        \"min\": -3.9359015881217387,\n        \"max\": 4.8476311666196565,\n        \"num_unique_values\": 100,\n        \"samples\": [\n          2.2007298621270595,\n          -1.8594227071725795,\n          2.5480917576349507\n        ],\n        \"semantic_type\": \"\",\n        \"description\": \"\"\n      }\n    },\n    {\n      \"column\": \"Y\",\n      \"properties\": {\n        \"dtype\": \"number\",\n        \"std\": 0,\n        \"min\": 0,\n        \"max\": 1,\n        \"num_unique_values\": 2,\n        \"samples\": [\n          0,\n          1\n        ],\n        \"semantic_type\": \"\",\n        \"description\": \"\"\n      }\n    }\n  ]\n}"
            }
          },
          "metadata": {},
          "execution_count": 1
        }
      ]
    },
    {
      "cell_type": "markdown",
      "source": [
        "Generación de\n",
        "𝑋\n",
        "1\n",
        "X\n",
        "1\n",
        "​\n",
        "  y\n",
        "𝑋\n",
        "2\n",
        "X\n",
        "2\n",
        "​\n",
        " :\n",
        "\n",
        "Usamos np.random.uniform para simular\n",
        "𝑋\n",
        "1\n",
        "X\n",
        "1\n",
        "​\n",
        "  y\n",
        "𝑋\n",
        "2\n",
        "X\n",
        "2\n",
        "​\n",
        "  de una distribución uniforme en el rango\n",
        "[\n",
        "−\n",
        "4\n",
        ",\n",
        "5\n",
        "]\n",
        "[−4,5].\n",
        "Cálculo de\n",
        "𝑦\n",
        "y:\n",
        "\n",
        "Creamos una probabilidad intermedia (\n",
        "𝑦\n",
        "prob\n",
        "y\n",
        "prob\n",
        "​\n",
        " ) basada en la fórmula:\n",
        "𝑦\n",
        "prob\n",
        "=\n",
        "exp\n",
        "⁡\n",
        "(\n",
        "𝑎\n",
        "𝑋\n",
        "1\n",
        "+\n",
        "𝑏\n",
        "𝑋\n",
        "2\n",
        "+\n",
        "𝑐\n",
        "+\n",
        "ruido\n",
        ")\n",
        "1\n",
        "+\n",
        "exp\n",
        "⁡\n",
        "(\n",
        "𝑎\n",
        "𝑋\n",
        "1\n",
        "+\n",
        "𝑏\n",
        "𝑋\n",
        "2\n",
        "+\n",
        "𝑐\n",
        "+\n",
        "ruido\n",
        ")\n",
        "y\n",
        "prob\n",
        "​\n",
        " =\n",
        "1+exp(aX\n",
        "1\n",
        "​\n",
        " +bX\n",
        "2\n",
        "​\n",
        " +c+ruido)\n",
        "exp(aX\n",
        "1\n",
        "​\n",
        " +bX\n",
        "2\n",
        "​\n",
        " +c+ruido)\n",
        "​\n",
        "\n",
        "El ruido se genera con np.random.normal.\n",
        "Generación binaria de\n",
        "𝑌\n",
        "Y:\n",
        "\n",
        "Convertimos las probabilidades en una variable binaria (\n",
        "𝑌\n",
        "∈\n",
        "{\n",
        "0\n",
        ",\n",
        "1\n",
        "}\n",
        "Y∈{0,1}) usando np.random.binomial.\n",
        "DataFrame:\n",
        "\n",
        "Guardamos\n",
        "𝑋\n",
        "1\n",
        "X\n",
        "1\n",
        "​\n",
        " ,\n",
        "𝑋\n",
        "2\n",
        "X\n",
        "2\n",
        "​\n",
        " , y\n",
        "𝑌\n",
        "Y en un DataFrame para un manejo más fácil."
      ],
      "metadata": {
        "id": "LUc5pMK0i8m_"
      }
    },
    {
      "cell_type": "markdown",
      "source": [
        "## Parte b)\n",
        " Representar graficamente la nube de puntos formada por las variables explicativas, representando los puntos con colores distintos segun la modalidad de Y . Representar Y en funcion de X1 e Y en funcion de X2."
      ],
      "metadata": {
        "id": "nk2L7yfIjjY0"
      }
    },
    {
      "cell_type": "code",
      "source": [
        "#parte b)\n",
        "import matplotlib.pyplot as plt\n",
        "\n",
        "# Gráfico 1: Y en función de X1\n",
        "plt.figure(figsize=(8, 6))\n",
        "plt.scatter(data['X1'], data['Y'], c=data['Y'], cmap='bwr', alpha=0.7, edgecolor='k')\n",
        "plt.xlabel('X1')\n",
        "plt.ylabel('Y')\n",
        "plt.title('Y en función de X1')\n",
        "plt.grid()\n",
        "plt.show()\n",
        "\n",
        "# Gráfico 2: Y en función de X2\n",
        "plt.figure(figsize=(8, 6))\n",
        "plt.scatter(data['X2'], data['Y'], c=data['Y'], cmap='bwr', alpha=0.7, edgecolor='k')\n",
        "plt.xlabel('X2')\n",
        "plt.ylabel('Y')\n",
        "plt.title('Y en función de X2')\n",
        "plt.grid()\n",
        "plt.show()\n"
      ],
      "metadata": {
        "colab": {
          "base_uri": "https://localhost:8080/",
          "height": 1000
        },
        "id": "1JzZlge9i5M_",
        "outputId": "6b583ce0-bb71-4a10-ec2e-26218cfb480f"
      },
      "execution_count": 3,
      "outputs": [
        {
          "output_type": "display_data",
          "data": {
            "text/plain": [
              "<Figure size 800x600 with 1 Axes>"
            ],
            "image/png": "[encoded data removed]"
          },
          "metadata": {}
        },
        {
          "output_type": "display_data",
          "data": {
            "text/plain": [
              "<Figure size 800x600 with 1 Axes>"
            ],
            "image/png": "[encoded data removed]"
          },
          "metadata": {}
        }
      ]
    },
    {
      "cell_type": "code",
      "source": [
        "# GRAFICO CONJUNTO\n",
        "# Gráfico de X1 vs X2 coloreado por Y\n",
        "plt.figure(figsize=(8, 6))\n",
        "plt.scatter(data['X1'], data['X2'], c=data['Y'], cmap='bwr', alpha=0.7, edgecolor='k')\n",
        "plt.xlabel('X1')\n",
        "plt.ylabel('X2')\n",
        "plt.title('Nube de puntos: X1 vs X2 coloreado por Y')\n",
        "plt.colorbar(label='Y (0 o 1)')\n",
        "plt.grid()\n",
        "plt.show()\n"
      ],
      "metadata": {
        "colab": {
          "base_uri": "https://localhost:8080/",
          "height": 564
        },
        "id": "swuD23zUjOIC",
        "outputId": "28df34bd-9166-4be1-a92d-12c06eab4fa6"
      },
      "execution_count": 4,
      "outputs": [
        {
          "output_type": "display_data",
          "data": {
            "text/plain": [
              "<Figure size 800x600 with 2 Axes>"
            ],
            "image/png": "[encoded data removed]"
          },
          "metadata": {}
        }
      ]
    },
    {
      "cell_type": "markdown",
      "source": [
        " ## Parte c)\n",
        "  c) Estimar el modelo de regresion logistica a traves de la funcion glm:\n",
        " glm.res=glm(y~x1+x2,family=binomial)\n",
        "\n",
        " Comentar el resultado obtenido con el comando summary(glm.res) Cual es el aporte de cada variable\n",
        " explicativa?"
      ],
      "metadata": {
        "id": "14jVWbpwjojC"
      }
    },
    {
      "cell_type": "code",
      "source": [
        "import statsmodels.api as sm\n"
      ],
      "metadata": {
        "id": "QfsiA78kjTkL"
      },
      "execution_count": 5,
      "outputs": []
    },
    {
      "cell_type": "code",
      "source": [
        "# Agregar una constante para el término de intercepto (equivalente a ~1 en R)\n",
        "X = sm.add_constant(data[['X1', 'X2']])  # X incluye la constante, X1 y X2\n",
        "y = data['Y']  # Variable respuesta\n",
        "\n",
        "# Ajustar el modelo de regresión logística\n",
        "glm_res = sm.GLM(y, X, family=sm.families.Binomial()).fit()\n",
        "\n",
        "# Mostrar el resumen del modelo\n",
        "print(glm_res.summary())\n"
      ],
      "metadata": {
        "colab": {
          "base_uri": "https://localhost:8080/"
        },
        "id": "KAVYxr-bj2Ja",
        "outputId": "edffce7a-4633-4619-96c9-18d758208a10"
      },
      "execution_count": 6,
      "outputs": [
        {
          "output_type": "stream",
          "name": "stdout",
          "text": [
            "                 Generalized Linear Model Regression Results                  \n",
            "==============================================================================\n",
            "Dep. Variable:                      Y   No. Observations:                  100\n",
            "Model:                            GLM   Df Residuals:                       97\n",
            "Model Family:                Binomial   Df Model:                            2\n",
            "Link Function:                  Logit   Scale:                          1.0000\n",
            "Method:                          IRLS   Log-Likelihood:                -12.357\n",
            "Date:                Sun, 08 Dec 2024   Deviance:                       24.714\n",
            "Time:                        23:16:36   Pearson chi2:                     47.7\n",
            "No. Iterations:                     9   Pseudo R-squ. (CS):             0.6607\n",
            "Covariance Type:            nonrobust                                         \n",
            "==============================================================================\n",
            "                 coef    std err          z      P>|z|      [0.025      0.975]\n",
            "------------------------------------------------------------------------------\n",
            "const          3.1029      0.951      3.264      0.001       1.240       4.966\n",
            "X1            -2.3336      0.691     -3.378      0.001      -3.688      -0.980\n",
            "X2             2.4168      0.701      3.447      0.001       1.043       3.791\n",
            "==============================================================================\n"
          ]
        }
      ]
    },
    {
      "cell_type": "markdown",
      "source": [
        "Este modelo de regresión logística ajustado busca predecir la probabilidad de que Y=1 en función de las variables explicativas X1 y X2. A partir de los resultados obtenidos, se observa que ambas variables son estadísticamente significativas (𝑝<0.05) y tienen impactos opuestos sobre la probabilidad de éxito.\n",
        "\n",
        "El coeficiente de la constante (3.1029) es positivo y significativo (p=0.001), lo que indica que la probabilidad base de Y=1 (cuando X1=0 y X2=0) es relativamente alta. Este término actúa como punto de partida para las probabilidades ajustadas del modelo.\n",
        "\n",
        "La variable X1 tiene un coeficiente de -2.3336, lo que implica que, a medida que X1 aumenta en una unidad, la probabilidad de que Y=1 disminuye exponencialmente. Este efecto negativo es estadísticamente significativo (p=0.001), lo que demuestra que X1 tiene un impacto importante en la probabilidad de éxito.\n",
        "\n",
        "Por otro lado, X2 tiene un coeficiente positivo de 2.4168, indicando que a medida que X2 aumenta, la probabilidad de que Y=1 también incrementa de manera exponencial. Este efecto positivo también es estadísticamente significativo (\n",
        "p=0.001), y su magnitud es ligeramente mayor que la de X1, lo que sugiere que el impacto positivo de X2 podría dominar en ciertas situaciones.\n",
        "\n",
        "En términos generales, el modelo tiene un buen ajuste global, con un PseudoR\n",
        "2=0.6607, lo que indica que las variables explicativas explican aproximadamente el 66.07% de la variación en los datos. Este es un indicador de que el modelo es adecuado para capturar la relación entre Y y las variables explicativas X1 y\n",
        "X2.\n",
        "\n",
        "En conclusión, ambas variables explicativas son fundamentales para predecir\n",
        "Y.X1 reduce significativamente la probabilidad de éxito, mientras que\n",
        "X2 la incrementa, y el modelo ajustado proporciona una visión robusta de cómo estas variables influyen en el resultado."
      ],
      "metadata": {
        "id": "m0xZ0oVWkHWt"
      }
    },
    {
      "cell_type": "markdown",
      "source": [
        "## Parte d)\n",
        " Realizar las predicciones de Y para la muestra de entrenamiento con\n",
        " yhat=predict(glm.res,data.frame(x1=x1,x2=x2),type=response)\n",
        " Convertir las probabilidades a clases y dar los resultados con una matriz de confusion table(yhat,y)."
      ],
      "metadata": {
        "id": "u6h-Dt01mPQd"
      }
    },
    {
      "cell_type": "code",
      "source": [
        "#utilizo metodo predict() del modelo ajustado para predecir las probabilidades de que Y=1 en training\n",
        "\n",
        "# Realizar las predicciones de probabilidad\n",
        "yhat_prob = glm_res.predict(sm.add_constant(data[['X1', 'X2']]))  # sm.add_constant asegura el término de intercepto\n"
      ],
      "metadata": {
        "id": "CerXXgABmSbG"
      },
      "execution_count": 7,
      "outputs": []
    },
    {
      "cell_type": "code",
      "source": [
        "# Convertir probabilidades en clases (umbral = 0.5)\n",
        "yhat_class = (yhat_prob >= 0.5).astype(int)\n"
      ],
      "metadata": {
        "id": "jYqwRo6xn9t1"
      },
      "execution_count": 8,
      "outputs": []
    },
    {
      "cell_type": "code",
      "source": [
        "from sklearn.metrics import confusion_matrix\n",
        "\n",
        "# Crear la matriz de confusión\n",
        "conf_matrix = confusion_matrix(data['Y'], yhat_class)\n",
        "\n",
        "# Mostrar la matriz de confusión\n",
        "print(\"Matriz de Confusión:\")\n",
        "print(conf_matrix)\n"
      ],
      "metadata": {
        "colab": {
          "base_uri": "https://localhost:8080/"
        },
        "id": "80IoGxknn_bu",
        "outputId": "e483a2c1-b187-424b-e911-0a78f4a46641"
      },
      "execution_count": 9,
      "outputs": [
        {
          "output_type": "stream",
          "name": "stdout",
          "text": [
            "Matriz de Confusión:\n",
            "[[36  2]\n",
            " [ 1 61]]\n"
          ]
        }
      ]
    },
    {
      "cell_type": "code",
      "source": [
        "# Crear un DataFrame para la matriz de confusión para verla mas clara\n",
        "conf_matrix_df = pd.DataFrame(conf_matrix,\n",
        "                              index=[\"Clase Real: 0\", \"Clase Real: 1\"],\n",
        "                              columns=[\"Clase Predicha: 0\", \"Clase Predicha: 1\"])\n",
        "\n",
        "print(\"Matriz de Confusión Formateada:\")\n",
        "print(conf_matrix_df)\n"
      ],
      "metadata": {
        "colab": {
          "base_uri": "https://localhost:8080/"
        },
        "id": "qOHjqa0qoBOf",
        "outputId": "cf8e8703-2083-4285-bede-49869a92d801"
      },
      "execution_count": 10,
      "outputs": [
        {
          "output_type": "stream",
          "name": "stdout",
          "text": [
            "Matriz de Confusión Formateada:\n",
            "               Clase Predicha: 0  Clase Predicha: 1\n",
            "Clase Real: 0                 36                  2\n",
            "Clase Real: 1                  1                 61\n"
          ]
        }
      ]
    },
    {
      "cell_type": "markdown",
      "source": [
        "## Parte e)\n",
        " Simular una nueva muestra de tamano 100. Calcular la sensibilidad y la especi cidad para seq(0,1,0.01).\n",
        " Trazar la curva ROC (como funcion escalera).\n",
        "\n"
      ],
      "metadata": {
        "id": "xPx21A1Enr9u"
      }
    },
    {
      "cell_type": "code",
      "source": [
        "# Nueva muestra simulada\n",
        "n_new = 100\n",
        "x1_new = np.random.uniform(-4, 5, n_new)\n",
        "x2_new = np.random.uniform(-4, 5, n_new)\n",
        "\n",
        "# Generar Y para la nueva muestra\n",
        "y_prob_new = np.exp(a * x1_new + b * x2_new + c + np.random.normal(0, 1, n_new))\n",
        "y_prob_new = y_prob_new / (1 + y_prob_new)\n",
        "y_new = np.random.binomial(1, y_prob_new)\n",
        "\n",
        "# Crear un DataFrame para la nueva muestra\n",
        "new_data = pd.DataFrame({'X1': x1_new, 'X2': x2_new, 'Y': y_new})\n"
      ],
      "metadata": {
        "id": "dJEcfWzcnupl"
      },
      "execution_count": 11,
      "outputs": []
    },
    {
      "cell_type": "markdown",
      "source": [
        "Para cada umbral, se calcula:\n",
        "Sensibilidad (TPR): TP/ (TP+FN)\n",
        ", mide la capacidad del modelo para detectar los verdaderos positivos.\n",
        "\n",
        "Especificidad: Calculada como\n",
        "1-FPR, donde FPR= FP/(FP+TN)\n",
        "​\n",
        " ."
      ],
      "metadata": {
        "id": "t6zHveSSoc_S"
      }
    },
    {
      "cell_type": "code",
      "source": [
        "from sklearn.metrics import confusion_matrix\n",
        "\n",
        "# Predicción de probabilidades para la nueva muestra\n",
        "X_new = sm.add_constant(new_data[['X1', 'X2']])  # Agregar intercepto\n",
        "yhat_prob_new = glm_res.predict(X_new)  # Probabilidades predichas\n",
        "\n",
        "# Definir la secuencia de umbrales\n",
        "thresholds = np.arange(0, 1.01, 0.01)\n",
        "\n",
        "# Inicializar listas para TPR (Sensibilidad) y FPR (1 - Especificidad)\n",
        "tpr = []  # Sensibilidad\n",
        "fpr = []  # 1 - Especificidad\n",
        "\n",
        "for threshold in thresholds:\n",
        "    # Convertir probabilidades en clases para el umbral actual\n",
        "    y_pred_class = (yhat_prob_new >= threshold).astype(int)\n",
        "\n",
        "    # Calcular la matriz de confusión\n",
        "    tn, fp, fn, tp = confusion_matrix(new_data['Y'], y_pred_class).ravel()\n",
        "\n",
        "    # Calcular sensibilidad (TPR) y especificidad (1 - FPR)\n",
        "    tpr.append(tp / (tp + fn))  # Sensibilidad\n",
        "    fpr.append(fp / (fp + tn))  # 1 - Especificidad\n"
      ],
      "metadata": {
        "id": "aMR5qj9foQoo"
      },
      "execution_count": 12,
      "outputs": []
    },
    {
      "cell_type": "code",
      "source": [
        "import matplotlib.pyplot as plt\n",
        "\n",
        "# Graficar la curva ROC como escalera\n",
        "plt.figure(figsize=(8, 6))\n",
        "plt.step(fpr, tpr, where='post', label=\"Curva ROC (GLM)\")\n",
        "plt.plot([0, 1], [0, 1], 'k--', label=\"Adivinación al Azar\")  # Línea diagonal\n",
        "plt.xlabel(\"1 - Especificidad (FPR)\")\n",
        "plt.ylabel(\"Sensibilidad (TPR)\")\n",
        "plt.title(\"Curva ROC (Función Escalera)\")\n",
        "plt.legend(loc=\"lower right\")\n",
        "plt.grid()\n",
        "plt.show()\n"
      ],
      "metadata": {
        "colab": {
          "base_uri": "https://localhost:8080/",
          "height": 564
        },
        "id": "7TtvfZwmoXwC",
        "outputId": "c10791ce-055c-426d-cc3c-cb5536572e0b"
      },
      "execution_count": 13,
      "outputs": [
        {
          "output_type": "display_data",
          "data": {
            "text/plain": [
              "<Figure size 800x600 with 1 Axes>"
            ],
            "image/png": "[encoded data removed]"
          },
          "metadata": {}
        }
      ]
    },
    {
      "cell_type": "markdown",
      "source": [
        "Se observa una gráfica en forma de escalera, mostrando cómo varían sensibilidad y especificidad para diferentes umbrales.\n",
        "La línea diagonal representa un modelo que no es mejor que el azar.\n",
        "\n",
        "Una curva que se acerca más al vértice superior izquierdo (alta sensibilidad y baja FPR) indica un modelo con mejor rendimiento."
      ],
      "metadata": {
        "id": "hJhBE5Doozl_"
      }
    },
    {
      "cell_type": "markdown",
      "source": [
        "## Parte f )\n",
        " Hacer lo mismo usando una sola variable explicativa en el modelo logstico. Superponer ambas curvas\n",
        " ROC y elegir el mejor modelo"
      ],
      "metadata": {
        "id": "nY0jGSsSnvGd"
      }
    },
    {
      "cell_type": "code",
      "source": [
        "# Ajustar modelo con una sola variable (X1)\n",
        "X_single = sm.add_constant(new_data[['X1']])  # Solo X1 con el término de intercepto\n",
        "glm_res_single = sm.GLM(new_data['Y'], X_single, family=sm.families.Binomial()).fit()\n",
        "\n",
        "# Predicción de probabilidades para la nueva muestra\n",
        "yhat_prob_single = glm_res_single.predict(X_single)\n"
      ],
      "metadata": {
        "id": "KOk4dKMZnxt1"
      },
      "execution_count": 14,
      "outputs": []
    },
    {
      "cell_type": "code",
      "source": [
        "from sklearn.metrics import roc_auc_score\n",
        "\n",
        "# Inicializar listas para TPR y FPR del modelo con una variable\n",
        "tpr_single = []\n",
        "fpr_single = []\n",
        "\n",
        "for threshold in thresholds:\n",
        "    # Convertir probabilidades en clases para el umbral actual\n",
        "    y_pred_class_single = (yhat_prob_single >= threshold).astype(int)\n",
        "\n",
        "    # Calcular matriz de confusión\n",
        "    tn, fp, fn, tp = confusion_matrix(new_data['Y'], y_pred_class_single).ravel()\n",
        "\n",
        "    # Calcular TPR y FPR\n",
        "    tpr_single.append(tp / (tp + fn))  # Sensibilidad\n",
        "    fpr_single.append(fp / (fp + tn))  # 1 - Especificidad\n",
        "\n",
        "# Calcular el AUC del modelo con una variable\n",
        "auc_single = roc_auc_score(new_data['Y'], yhat_prob_single)\n",
        "print(f\"AUC (Modelo con X1): {auc_single:.2f}\")\n"
      ],
      "metadata": {
        "colab": {
          "base_uri": "https://localhost:8080/"
        },
        "id": "zO0STblkpBgz",
        "outputId": "620cb2b3-ea11-4d66-d3f0-798f3671ab9c"
      },
      "execution_count": 15,
      "outputs": [
        {
          "output_type": "stream",
          "name": "stdout",
          "text": [
            "AUC (Modelo con X1): 0.86\n"
          ]
        }
      ]
    },
    {
      "cell_type": "code",
      "source": [
        "# Graficar ambas curvas ROC\n",
        "plt.figure(figsize=(10, 8))\n",
        "\n",
        "# Curva ROC del modelo con dos variables\n",
        "plt.step(fpr, tpr, where='post', label=f\"Modelo con X1 y X2 (AUC = {roc_auc_score(new_data['Y'], yhat_prob_new):.2f})\", color='blue')\n",
        "\n",
        "# Curva ROC del modelo con una variable\n",
        "plt.step(fpr_single, tpr_single, where='post', label=f\"Modelo con X1 (AUC = {auc_single:.2f})\", color='green')\n",
        "\n",
        "# Línea diagonal (azar)\n",
        "plt.plot([0, 1], [0, 1], 'k--', label=\"Adivinación al Azar\")\n",
        "\n",
        "# Personalizar gráfico\n",
        "plt.xlabel(\"1 - Especificidad (FPR)\")\n",
        "plt.ylabel(\"Sensibilidad (TPR)\")\n",
        "plt.title(\"Comparación de Curvas ROC\")\n",
        "plt.legend(loc=\"lower right\")\n",
        "plt.grid()\n",
        "plt.show()\n"
      ],
      "metadata": {
        "colab": {
          "base_uri": "https://localhost:8080/",
          "height": 719
        },
        "id": "dOPQC3lfpEVz",
        "outputId": "38271b8b-2406-42ca-9fae-e3826ed522a8"
      },
      "execution_count": 16,
      "outputs": [
        {
          "output_type": "display_data",
          "data": {
            "text/plain": [
              "<Figure size 1000x800 with 1 Axes>"
            ],
            "image/png": "[encoded data removed]"
          },
          "metadata": {}
        }
      ]
    },
    {
      "cell_type": "markdown",
      "source": [
        "El mejor modelo se selecciona según el AUC: El modelo con un mayor AUC tiene un mejor rendimiento general, ya que discrimina mejor entre las clases positivas y negativas. Por lo tanto, el primer modelo con ambas variables es mejor."
      ],
      "metadata": {
        "id": "OzEDeK2XpIFN"
      }
    },
    {
      "cell_type": "markdown",
      "source": [
        "\n",
        "# Ejercicio 2.2\n",
        " Con los mismos datos del ejercicio aplicar knn, lda, qda, y naiveBayes."
      ],
      "metadata": {
        "id": "GFowZfR1HJCV"
      }
    },
    {
      "cell_type": "code",
      "source": [
        "# preparacion de datos\n",
        "#defino X (variables explicativas) e Y (variable objetivo)\n",
        "X = new_data[['X1', 'X2']]  # Variables explicativas\n",
        "y = new_data['Y']           # Variable objetivo\n"
      ],
      "metadata": {
        "id": "DuCp9jOzHTz8"
      },
      "execution_count": 17,
      "outputs": []
    },
    {
      "cell_type": "markdown",
      "source": [
        "### KNN"
      ],
      "metadata": {
        "id": "iv3M72Rrpohw"
      }
    },
    {
      "cell_type": "code",
      "source": [
        "from sklearn.neighbors import KNeighborsClassifier\n",
        "from sklearn.preprocessing import StandardScaler\n",
        "from sklearn.metrics import confusion_matrix, accuracy_score\n",
        "\n",
        "# Estandarizar los datos\n",
        "scaler = StandardScaler()\n",
        "X_scaled = scaler.fit_transform(X)\n",
        "\n",
        "# Ajustar KNN con k=5 (puedes ajustar el valor de k)\n",
        "knn = KNeighborsClassifier(n_neighbors=5)\n",
        "knn.fit(X_scaled, y)\n",
        "\n",
        "# Predicciones\n",
        "y_pred_knn = knn.predict(X_scaled)\n",
        "\n",
        "# Evaluación\n",
        "print(\"Matriz de Confusión (KNN):\")\n",
        "print(confusion_matrix(y, y_pred_knn))\n",
        "print(\"Exactitud (KNN):\", accuracy_score(y, y_pred_knn))\n"
      ],
      "metadata": {
        "colab": {
          "base_uri": "https://localhost:8080/"
        },
        "id": "0tRHpqXspp65",
        "outputId": "571dbe2a-d2c2-43c6-9392-63a646f6b389"
      },
      "execution_count": 18,
      "outputs": [
        {
          "output_type": "stream",
          "name": "stdout",
          "text": [
            "Matriz de Confusión (KNN):\n",
            "[[28  4]\n",
            " [ 1 67]]\n",
            "Exactitud (KNN): 0.95\n"
          ]
        }
      ]
    },
    {
      "cell_type": "markdown",
      "source": [
        "### LDA"
      ],
      "metadata": {
        "id": "iTElkDV2pucY"
      }
    },
    {
      "cell_type": "code",
      "source": [
        "from sklearn.discriminant_analysis import LinearDiscriminantAnalysis as LDA\n",
        "\n",
        "# Ajustar el modelo LDA\n",
        "lda = LDA()\n",
        "lda.fit(X, y)\n",
        "\n",
        "# Predicciones\n",
        "y_pred_lda = lda.predict(X)\n",
        "\n",
        "# Evaluación\n",
        "print(\"Matriz de Confusión (LDA):\")\n",
        "print(confusion_matrix(y, y_pred_lda))\n",
        "print(\"Exactitud (LDA):\", accuracy_score(y, y_pred_lda))\n"
      ],
      "metadata": {
        "colab": {
          "base_uri": "https://localhost:8080/"
        },
        "id": "GRDeic_ypvty",
        "outputId": "6ed28643-6da2-4691-d005-a5c6c2783c5c"
      },
      "execution_count": 19,
      "outputs": [
        {
          "output_type": "stream",
          "name": "stdout",
          "text": [
            "Matriz de Confusión (LDA):\n",
            "[[29  3]\n",
            " [ 2 66]]\n",
            "Exactitud (LDA): 0.95\n"
          ]
        }
      ]
    },
    {
      "cell_type": "markdown",
      "source": [
        "### QDA"
      ],
      "metadata": {
        "id": "SOsVHPMepx_5"
      }
    },
    {
      "cell_type": "code",
      "source": [
        "from sklearn.discriminant_analysis import QuadraticDiscriminantAnalysis as QDA\n",
        "\n",
        "# Ajustar el modelo QDA\n",
        "qda = QDA()\n",
        "qda.fit(X, y)\n",
        "\n",
        "# Predicciones\n",
        "y_pred_qda = qda.predict(X)\n",
        "\n",
        "# Evaluación\n",
        "print(\"Matriz de Confusión (QDA):\")\n",
        "print(confusion_matrix(y, y_pred_qda))\n",
        "print(\"Exactitud (QDA):\", accuracy_score(y, y_pred_qda))\n"
      ],
      "metadata": {
        "colab": {
          "base_uri": "https://localhost:8080/"
        },
        "id": "TvhZo6FcpzJD",
        "outputId": "c8162ac6-724a-4114-d28b-d23d0fffe64e"
      },
      "execution_count": 20,
      "outputs": [
        {
          "output_type": "stream",
          "name": "stdout",
          "text": [
            "Matriz de Confusión (QDA):\n",
            "[[29  3]\n",
            " [ 1 67]]\n",
            "Exactitud (QDA): 0.96\n"
          ]
        }
      ]
    },
    {
      "cell_type": "markdown",
      "source": [
        "### NAIVE BAYES"
      ],
      "metadata": {
        "id": "juBHg0vVp0sK"
      }
    },
    {
      "cell_type": "code",
      "source": [
        "from sklearn.naive_bayes import GaussianNB\n",
        "\n",
        "# Ajustar el modelo Naive Bayes\n",
        "nb = GaussianNB()\n",
        "nb.fit(X, y)\n",
        "\n",
        "# Predicciones\n",
        "y_pred_nb = nb.predict(X)\n",
        "\n",
        "# Evaluación\n",
        "print(\"Matriz de Confusión (Naive Bayes):\")\n",
        "print(confusion_matrix(y, y_pred_nb))\n",
        "print(\"Exactitud (Naive Bayes):\", accuracy_score(y, y_pred_nb))\n"
      ],
      "metadata": {
        "colab": {
          "base_uri": "https://localhost:8080/"
        },
        "id": "LmsvRc3cp2Hh",
        "outputId": "eae89e81-88f1-489c-f474-7e3ee2fdf20d"
      },
      "execution_count": 21,
      "outputs": [
        {
          "output_type": "stream",
          "name": "stdout",
          "text": [
            "Matriz de Confusión (Naive Bayes):\n",
            "[[25  7]\n",
            " [ 0 68]]\n",
            "Exactitud (Naive Bayes): 0.93\n"
          ]
        }
      ]
    },
    {
      "cell_type": "markdown",
      "source": [
        "Con base en los resultados obtenidos:\n",
        "\n",
        "---\n",
        "\n",
        "KNN:\n",
        "\n",
        "Matriz de confusión: 28 verdaderos negativos, 67 verdaderos positivos, 4 falsos positivos, y 1 falso negativo.\n",
        "\n",
        "Exactitud:95%.\n",
        "\n",
        "Observación: KNN tiene un buen desempeño, con solo un falso negativo, lo que significa que clasifica correctamente la mayoría de los casos positivos y negativos.\n",
        "\n",
        "---\n",
        "\n",
        "LDA (Linear Discriminant Analysis):\n",
        "\n",
        "Matriz de confusión: 29 verdaderos negativos, 66 verdaderos positivos, 3 falsos positivos, y 2 falsos negativos.\n",
        "\n",
        "Exactitud: 95%.\n",
        "\n",
        "Observación: El desempeño de LDA es similar al de KNN, pero comete un error más en los falsos negativos, aunque sigue siendo un modelo robusto.\n",
        "\n",
        "---\n",
        "QDA (Quadratic Discriminant Analysis):\n",
        "\n",
        "Matriz de confusión: 29 verdaderos negativos, 67 verdaderos positivos, 3 falsos positivos, y 1 falso negativo.\n",
        "\n",
        "Exactitud: 96%.\n",
        "\n",
        "Observación: QDA tiene el mejor desempeño entre los modelos evaluados, logrando una exactitud ligeramente superior al de KNN y LDA. Esto sugiere que la relación cuadrática entre las variables puede estar capturando mejor la estructura de los datos.\n",
        "\n",
        "---\n",
        "\n",
        "Naive Bayes:\n",
        "\n",
        "Matriz de confusión: 25 verdaderos negativos, 68 verdaderos positivos, 7 falsos positivos, y 0 falsos negativos.\n",
        "\n",
        "Exactitud: 93%.\n",
        "\n",
        "Observación: Aunque el modelo Naive Bayes tiene una exactitud algo menor, no comete falsos negativos, lo que lo hace confiable para detectar todos los casos positivos, aunque clasifica erróneamente más casos negativos como positivos.\n",
        "\n",
        "---\n",
        "\n",
        "Comparación General:\n",
        "Mejor modelo:QDA tiene la mejor exactitud (96%) y un balance óptimo entre falsos positivos y falsos negativos.\n",
        "\n",
        "Si evitar falsos negativos (no perder casos positivos) es prioritario, Naive Bayes sería ideal, ya que no comete ningún falso negativo.\n",
        "Si precisaramos un balance general, KNN, LDA, y QDA tienen desempeños similares, con QDA liderando ligeramente.\n",
        "\n",
        "Escalabilidad:\n",
        "Naive Bayes y LDA son modelos más rápidos y eficientes computacionalmente, ideales para datasets grandes.\n",
        "En resumen, QDA es el modelo más efectivo en este caso, pero la elección final puede depender de las prioridades específicas del problema (minimizar falsos negativos, simplicidad, o escalabilidad)."
      ],
      "metadata": {
        "id": "d85Zu4PZqQfU"
      }
    },
    {
      "cell_type": "markdown",
      "source": [
        "# Ejercicio 2.3\n",
        "Con los mismos datos del ejercicio aplicar SVM, RandomForests y CART"
      ],
      "metadata": {
        "id": "qQSPbvpVHUw0"
      }
    },
    {
      "cell_type": "markdown",
      "source": [
        "## SUPPORT VECTOR MACHINES (SVM)"
      ],
      "metadata": {
        "id": "Z6brdoayqx1g"
      }
    },
    {
      "cell_type": "code",
      "source": [
        "# Datos de entrada\n",
        "X = new_data[['X1', 'X2']]\n",
        "y = new_data['Y']\n"
      ],
      "metadata": {
        "id": "_TqagCsxHYUp"
      },
      "execution_count": 22,
      "outputs": []
    },
    {
      "cell_type": "code",
      "source": [
        "from sklearn.svm import SVC\n",
        "from sklearn.metrics import confusion_matrix, accuracy_score\n",
        "\n",
        "# Ajustar SVM con kernel lineal\n",
        "svm = SVC(kernel='linear', probability=True)  # probability=True para obtener probabilidades\n",
        "svm.fit(X, y)\n",
        "\n",
        "# Predicciones\n",
        "y_pred_svm = svm.predict(X)\n",
        "\n",
        "# Evaluación\n",
        "print(\"Matriz de Confusión (SVM):\")\n",
        "print(confusion_matrix(y, y_pred_svm))\n",
        "print(\"Exactitud (SVM):\", accuracy_score(y, y_pred_svm))\n"
      ],
      "metadata": {
        "colab": {
          "base_uri": "https://localhost:8080/"
        },
        "id": "X7jFhMAGq84v",
        "outputId": "1df81922-dc6b-440b-ef3f-5bd482b7cabd"
      },
      "execution_count": 23,
      "outputs": [
        {
          "output_type": "stream",
          "name": "stdout",
          "text": [
            "Matriz de Confusión (SVM):\n",
            "[[30  2]\n",
            " [ 2 66]]\n",
            "Exactitud (SVM): 0.96\n"
          ]
        }
      ]
    },
    {
      "cell_type": "markdown",
      "source": [
        "## RANDOMFORESTS (RF)"
      ],
      "metadata": {
        "id": "U7Ny4lLqq1BZ"
      }
    },
    {
      "cell_type": "code",
      "source": [
        "from sklearn.ensemble import RandomForestClassifier\n",
        "\n",
        "# Ajustar Random Forests\n",
        "rf = RandomForestClassifier(n_estimators=100, random_state=42)\n",
        "rf.fit(X, y)\n",
        "\n",
        "# Predicciones\n",
        "y_pred_rf = rf.predict(X)\n",
        "\n",
        "# Evaluación\n",
        "print(\"Matriz de Confusión (Random Forests):\")\n",
        "print(confusion_matrix(y, y_pred_rf))\n",
        "print(\"Exactitud (Random Forests):\", accuracy_score(y, y_pred_rf))\n"
      ],
      "metadata": {
        "colab": {
          "base_uri": "https://localhost:8080/"
        },
        "id": "aClipYnSq2tZ",
        "outputId": "f1e2a5e5-030f-49a0-b59d-f50faa180262"
      },
      "execution_count": 24,
      "outputs": [
        {
          "output_type": "stream",
          "name": "stdout",
          "text": [
            "Matriz de Confusión (Random Forests):\n",
            "[[32  0]\n",
            " [ 0 68]]\n",
            "Exactitud (Random Forests): 1.0\n"
          ]
        }
      ]
    },
    {
      "cell_type": "markdown",
      "source": [
        "## CART"
      ],
      "metadata": {
        "id": "6wDaS48xq3Jr"
      }
    },
    {
      "cell_type": "code",
      "source": [
        "from sklearn.tree import DecisionTreeClassifier\n",
        "\n",
        "# Ajustar CART\n",
        "cart = DecisionTreeClassifier(random_state=42)\n",
        "cart.fit(X, y)\n",
        "\n",
        "# Predicciones\n",
        "y_pred_cart = cart.predict(X)\n",
        "\n",
        "# Evaluación\n",
        "print(\"Matriz de Confusión (CART):\")\n",
        "print(confusion_matrix(y, y_pred_cart))\n",
        "print(\"Exactitud (CART):\", accuracy_score(y, y_pred_cart))\n"
      ],
      "metadata": {
        "colab": {
          "base_uri": "https://localhost:8080/"
        },
        "id": "Ql8afAYsq4B-",
        "outputId": "5514d973-0d35-4530-8d92-fdb9221495bf"
      },
      "execution_count": 25,
      "outputs": [
        {
          "output_type": "stream",
          "name": "stdout",
          "text": [
            "Matriz de Confusión (CART):\n",
            "[[32  0]\n",
            " [ 0 68]]\n",
            "Exactitud (CART): 1.0\n"
          ]
        }
      ]
    },
    {
      "cell_type": "markdown",
      "source": [
        "Support Vector Machine (SVM)\n",
        "\n",
        "Matriz de Confusión:\n",
        "30 verdaderos negativos, 66 verdaderos positivos, 2 falsos positivos, y 2 falsos negativos.\n",
        "\n",
        "Exactitud:96%, lo que indica un desempeño excelente.\n",
        "\n",
        "Observación:\n",
        "El modelo SVM presenta un buen balance, con un pequeño número de falsos positivos y falsos negativos. Es efectivo en este caso, pero no logra la perfección alcanzada por los otros modelos.\n",
        "\n",
        "---\n",
        "\n",
        "Random Forests\n",
        "\n",
        "Matriz de Confusión:\n",
        "32 verdaderos negativos, 68 verdaderos positivos, 0 falsos positivos, y 0 falsos negativos.\n",
        "Exactitud:100%, lo que significa que clasifica correctamente todos los datos.\n",
        "\n",
        "Observación:\n",
        "Random Forest logra una clasificación perfecta. Esto sugiere que es un modelo muy robusto para este conjunto de datos, probablemente debido a su capacidad para capturar interacciones y relaciones no lineales entre X1 y X2.\n",
        "\n",
        "---\n",
        "\n",
        " CART (Classification and Regression Tree)\n",
        "\n",
        "Matriz de Confusión:\n",
        "32 verdaderos negativos, 68 verdaderos positivos, 0 falsos positivos, y 0 falsos negativos.\n",
        "\n",
        "Exactitud: 100%, también clasifica perfectamente todos los datos.\n",
        "\n",
        "Observación:\n",
        "CART también logra una clasificación perfecta, lo que indica que el modelo es capaz de dividir correctamente los datos en función de las variables explicativas.\n",
        "\n",
        "---\n",
        "\n",
        "Comparación General\n",
        "\n",
        "Mejor desempeño:\n",
        "Tanto Random Forests como CART logran un rendimiento perfecto (100% de exactitud) y no cometen errores de clasificación (0 falsos positivos y 0 falsos negativos). SVM tiene un desempeño ligeramente inferior, con una exactitud de\n",
        "96%.\n",
        "\n",
        "Robustez: Random Forests tiende a ser más robusto en datos reales, ya que utiliza múltiples árboles para evitar sobreajustes, a diferencia de CART, que puede ser más susceptible al sobreajuste.\n",
        "SVM puede ser mejor para datos con relaciones lineales o alta dimensionalidad, pero aquí no logra superar a Random Forests o CART.\n",
        "\n",
        "Interpretabilidad: CART es el modelo más interpretable, ya que genera un único árbol que se puede visualizar fácilmente.\n",
        "Random Forests y SVM son menos interpretables, pero suelen ser más precisos en problemas complejos.\n",
        "\n",
        "Conclusión Final\n",
        "\n",
        "Random Forests y CART son los mejores modelos para este conjunto de datos, ya que logran una clasificación perfecta. Si la interpretabilidad es importante, CART sería la opción preferida. Sin embargo, si buscas robustez en datos más grandes o complejos, Random Forests sería la elección ideal.\n",
        "SVM también tiene un rendimiento excelente, pero no supera a los otros dos en este caso específico.\n",
        "\n",
        "El hecho de que hayan dado tan bien estos modelos tambien puede estar vinculado a como se generaron los datos. Nosotros asumimos ciertas relaciones entre variables (entre X1,X2 y Y) que siguen cierto patron matematico conocido, no tiene ruido o relaciones complejas que este tipo de modelos necesite aprender. Justamente estos modelos estan hechos para capturar relaciones complejas entre variables, y si hay un patron claro y poco ruido entonces estos modelos capturaran las relaciones facilmente y se ajustaran mas a los datos. Generalmente, en la vida real, si un modelo tiene 100% de exactitud es una indicacion de que esta sobreajustando."
      ],
      "metadata": {
        "id": "PEe2BuUDrSk9"
      }
    }
  ]
}